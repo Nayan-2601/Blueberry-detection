{
  "nbformat": 4,
  "nbformat_minor": 0,
  "metadata": {
    "colab": {
      "provenance": []
    },
    "kernelspec": {
      "name": "python3",
      "display_name": "Python 3"
    },
    "language_info": {
      "name": "python"
    }
  },
  "cells": [
    {
      "cell_type": "code",
      "execution_count": 1,
      "metadata": {
        "colab": {
          "base_uri": "https://localhost:8080/"
        },
        "id": "uCYJ42sEGvip",
        "outputId": "498eee9c-e087-4299-9f82-9707d7143210"
      },
      "outputs": [
        {
          "output_type": "stream",
          "name": "stdout",
          "text": [
            "Cloning into 'yolov5'...\n",
            "remote: Enumerating objects: 12169, done.\u001b[K\n",
            "remote: Counting objects: 100% (29/29), done.\u001b[K\n",
            "remote: Compressing objects: 100% (26/26), done.\u001b[K\n",
            "remote: Total 12169 (delta 11), reused 12 (delta 3), pack-reused 12140\u001b[K\n",
            "Receiving objects: 100% (12169/12169), 12.61 MiB | 10.50 MiB/s, done.\n",
            "Resolving deltas: 100% (8373/8373), done.\n",
            "/content/yolov5\n",
            "HEAD is now at fbe67e4 Fix `OMP_NUM_THREADS=1` for macOS (#8624)\n"
          ]
        }
      ],
      "source": [
        "# clone YOLOv5 repository\n",
        "!git clone https://github.com/ultralytics/yolov5  # clone repo\n",
        "%cd yolov5\n",
        "!git reset --hard fbe67e465375231474a2ad80a4389efc77ecff99"
      ]
    },
    {
      "cell_type": "code",
      "source": [
        "# install dependencies as necessary\n",
        "!pip install -qr requirements.txt  # install dependencies (ignore errors)\n",
        "import torch\n",
        "\n",
        "from IPython.display import Image, clear_output  # to display images\n",
        "from utils.downloads import attempt_download  # to download models/datasets\n",
        "\n",
        "# clear_output()\n",
        "print('Setup complete. Using torch %s %s' % (torch.__version__, torch.cuda.get_device_properties(0) if torch.cuda.is_available() else 'CPU'))"
      ],
      "metadata": {
        "colab": {
          "base_uri": "https://localhost:8080/"
        },
        "id": "Pe4Br_i9Gwwl",
        "outputId": "07a9fdbe-cc7b-4aa4-d985-16493e5ffd3b"
      },
      "execution_count": 2,
      "outputs": [
        {
          "output_type": "stream",
          "name": "stdout",
          "text": [
            "\u001b[?25l\r\u001b[K     |▏                               | 10 kB 9.1 MB/s eta 0:00:01\r\u001b[K     |▍                               | 20 kB 5.0 MB/s eta 0:00:01\r\u001b[K     |▋                               | 30 kB 7.2 MB/s eta 0:00:01\r\u001b[K     |▉                               | 40 kB 3.6 MB/s eta 0:00:01\r\u001b[K     |█                               | 51 kB 3.6 MB/s eta 0:00:01\r\u001b[K     |█▎                              | 61 kB 4.3 MB/s eta 0:00:01\r\u001b[K     |█▌                              | 71 kB 4.7 MB/s eta 0:00:01\r\u001b[K     |█▊                              | 81 kB 5.2 MB/s eta 0:00:01\r\u001b[K     |█▉                              | 92 kB 3.9 MB/s eta 0:00:01\r\u001b[K     |██                              | 102 kB 4.3 MB/s eta 0:00:01\r\u001b[K     |██▎                             | 112 kB 4.3 MB/s eta 0:00:01\r\u001b[K     |██▌                             | 122 kB 4.3 MB/s eta 0:00:01\r\u001b[K     |██▊                             | 133 kB 4.3 MB/s eta 0:00:01\r\u001b[K     |███                             | 143 kB 4.3 MB/s eta 0:00:01\r\u001b[K     |███▏                            | 153 kB 4.3 MB/s eta 0:00:01\r\u001b[K     |███▍                            | 163 kB 4.3 MB/s eta 0:00:01\r\u001b[K     |███▌                            | 174 kB 4.3 MB/s eta 0:00:01\r\u001b[K     |███▊                            | 184 kB 4.3 MB/s eta 0:00:01\r\u001b[K     |████                            | 194 kB 4.3 MB/s eta 0:00:01\r\u001b[K     |████▏                           | 204 kB 4.3 MB/s eta 0:00:01\r\u001b[K     |████▍                           | 215 kB 4.3 MB/s eta 0:00:01\r\u001b[K     |████▋                           | 225 kB 4.3 MB/s eta 0:00:01\r\u001b[K     |████▉                           | 235 kB 4.3 MB/s eta 0:00:01\r\u001b[K     |█████                           | 245 kB 4.3 MB/s eta 0:00:01\r\u001b[K     |█████▎                          | 256 kB 4.3 MB/s eta 0:00:01\r\u001b[K     |█████▍                          | 266 kB 4.3 MB/s eta 0:00:01\r\u001b[K     |█████▋                          | 276 kB 4.3 MB/s eta 0:00:01\r\u001b[K     |█████▉                          | 286 kB 4.3 MB/s eta 0:00:01\r\u001b[K     |██████                          | 296 kB 4.3 MB/s eta 0:00:01\r\u001b[K     |██████▎                         | 307 kB 4.3 MB/s eta 0:00:01\r\u001b[K     |██████▌                         | 317 kB 4.3 MB/s eta 0:00:01\r\u001b[K     |██████▊                         | 327 kB 4.3 MB/s eta 0:00:01\r\u001b[K     |███████                         | 337 kB 4.3 MB/s eta 0:00:01\r\u001b[K     |███████                         | 348 kB 4.3 MB/s eta 0:00:01\r\u001b[K     |███████▎                        | 358 kB 4.3 MB/s eta 0:00:01\r\u001b[K     |███████▌                        | 368 kB 4.3 MB/s eta 0:00:01\r\u001b[K     |███████▊                        | 378 kB 4.3 MB/s eta 0:00:01\r\u001b[K     |████████                        | 389 kB 4.3 MB/s eta 0:00:01\r\u001b[K     |████████▏                       | 399 kB 4.3 MB/s eta 0:00:01\r\u001b[K     |████████▍                       | 409 kB 4.3 MB/s eta 0:00:01\r\u001b[K     |████████▋                       | 419 kB 4.3 MB/s eta 0:00:01\r\u001b[K     |████████▉                       | 430 kB 4.3 MB/s eta 0:00:01\r\u001b[K     |█████████                       | 440 kB 4.3 MB/s eta 0:00:01\r\u001b[K     |█████████▏                      | 450 kB 4.3 MB/s eta 0:00:01\r\u001b[K     |█████████▍                      | 460 kB 4.3 MB/s eta 0:00:01\r\u001b[K     |█████████▋                      | 471 kB 4.3 MB/s eta 0:00:01\r\u001b[K     |█████████▉                      | 481 kB 4.3 MB/s eta 0:00:01\r\u001b[K     |██████████                      | 491 kB 4.3 MB/s eta 0:00:01\r\u001b[K     |██████████▎                     | 501 kB 4.3 MB/s eta 0:00:01\r\u001b[K     |██████████▌                     | 512 kB 4.3 MB/s eta 0:00:01\r\u001b[K     |██████████▋                     | 522 kB 4.3 MB/s eta 0:00:01\r\u001b[K     |██████████▉                     | 532 kB 4.3 MB/s eta 0:00:01\r\u001b[K     |███████████                     | 542 kB 4.3 MB/s eta 0:00:01\r\u001b[K     |███████████▎                    | 552 kB 4.3 MB/s eta 0:00:01\r\u001b[K     |███████████▌                    | 563 kB 4.3 MB/s eta 0:00:01\r\u001b[K     |███████████▊                    | 573 kB 4.3 MB/s eta 0:00:01\r\u001b[K     |████████████                    | 583 kB 4.3 MB/s eta 0:00:01\r\u001b[K     |████████████▏                   | 593 kB 4.3 MB/s eta 0:00:01\r\u001b[K     |████████████▍                   | 604 kB 4.3 MB/s eta 0:00:01\r\u001b[K     |████████████▌                   | 614 kB 4.3 MB/s eta 0:00:01\r\u001b[K     |████████████▊                   | 624 kB 4.3 MB/s eta 0:00:01\r\u001b[K     |█████████████                   | 634 kB 4.3 MB/s eta 0:00:01\r\u001b[K     |█████████████▏                  | 645 kB 4.3 MB/s eta 0:00:01\r\u001b[K     |█████████████▍                  | 655 kB 4.3 MB/s eta 0:00:01\r\u001b[K     |█████████████▋                  | 665 kB 4.3 MB/s eta 0:00:01\r\u001b[K     |█████████████▉                  | 675 kB 4.3 MB/s eta 0:00:01\r\u001b[K     |██████████████                  | 686 kB 4.3 MB/s eta 0:00:01\r\u001b[K     |██████████████▏                 | 696 kB 4.3 MB/s eta 0:00:01\r\u001b[K     |██████████████▍                 | 706 kB 4.3 MB/s eta 0:00:01\r\u001b[K     |██████████████▋                 | 716 kB 4.3 MB/s eta 0:00:01\r\u001b[K     |██████████████▉                 | 727 kB 4.3 MB/s eta 0:00:01\r\u001b[K     |███████████████                 | 737 kB 4.3 MB/s eta 0:00:01\r\u001b[K     |███████████████▎                | 747 kB 4.3 MB/s eta 0:00:01\r\u001b[K     |███████████████▌                | 757 kB 4.3 MB/s eta 0:00:01\r\u001b[K     |███████████████▊                | 768 kB 4.3 MB/s eta 0:00:01\r\u001b[K     |████████████████                | 778 kB 4.3 MB/s eta 0:00:01\r\u001b[K     |████████████████                | 788 kB 4.3 MB/s eta 0:00:01\r\u001b[K     |████████████████▎               | 798 kB 4.3 MB/s eta 0:00:01\r\u001b[K     |████████████████▌               | 808 kB 4.3 MB/s eta 0:00:01\r\u001b[K     |████████████████▊               | 819 kB 4.3 MB/s eta 0:00:01\r\u001b[K     |█████████████████               | 829 kB 4.3 MB/s eta 0:00:01\r\u001b[K     |█████████████████▏              | 839 kB 4.3 MB/s eta 0:00:01\r\u001b[K     |█████████████████▍              | 849 kB 4.3 MB/s eta 0:00:01\r\u001b[K     |█████████████████▋              | 860 kB 4.3 MB/s eta 0:00:01\r\u001b[K     |█████████████████▊              | 870 kB 4.3 MB/s eta 0:00:01\r\u001b[K     |██████████████████              | 880 kB 4.3 MB/s eta 0:00:01\r\u001b[K     |██████████████████▏             | 890 kB 4.3 MB/s eta 0:00:01\r\u001b[K     |██████████████████▍             | 901 kB 4.3 MB/s eta 0:00:01\r\u001b[K     |██████████████████▋             | 911 kB 4.3 MB/s eta 0:00:01\r\u001b[K     |██████████████████▉             | 921 kB 4.3 MB/s eta 0:00:01\r\u001b[K     |███████████████████             | 931 kB 4.3 MB/s eta 0:00:01\r\u001b[K     |███████████████████▎            | 942 kB 4.3 MB/s eta 0:00:01\r\u001b[K     |███████████████████▌            | 952 kB 4.3 MB/s eta 0:00:01\r\u001b[K     |███████████████████▋            | 962 kB 4.3 MB/s eta 0:00:01\r\u001b[K     |███████████████████▉            | 972 kB 4.3 MB/s eta 0:00:01\r\u001b[K     |████████████████████            | 983 kB 4.3 MB/s eta 0:00:01\r\u001b[K     |████████████████████▎           | 993 kB 4.3 MB/s eta 0:00:01\r\u001b[K     |████████████████████▌           | 1.0 MB 4.3 MB/s eta 0:00:01\r\u001b[K     |████████████████████▊           | 1.0 MB 4.3 MB/s eta 0:00:01\r\u001b[K     |█████████████████████           | 1.0 MB 4.3 MB/s eta 0:00:01\r\u001b[K     |█████████████████████▏          | 1.0 MB 4.3 MB/s eta 0:00:01\r\u001b[K     |█████████████████████▎          | 1.0 MB 4.3 MB/s eta 0:00:01\r\u001b[K     |█████████████████████▌          | 1.1 MB 4.3 MB/s eta 0:00:01\r\u001b[K     |█████████████████████▊          | 1.1 MB 4.3 MB/s eta 0:00:01\r\u001b[K     |██████████████████████          | 1.1 MB 4.3 MB/s eta 0:00:01\r\u001b[K     |██████████████████████▏         | 1.1 MB 4.3 MB/s eta 0:00:01\r\u001b[K     |██████████████████████▍         | 1.1 MB 4.3 MB/s eta 0:00:01\r\u001b[K     |██████████████████████▋         | 1.1 MB 4.3 MB/s eta 0:00:01\r\u001b[K     |██████████████████████▉         | 1.1 MB 4.3 MB/s eta 0:00:01\r\u001b[K     |███████████████████████         | 1.1 MB 4.3 MB/s eta 0:00:01\r\u001b[K     |███████████████████████▏        | 1.1 MB 4.3 MB/s eta 0:00:01\r\u001b[K     |███████████████████████▍        | 1.1 MB 4.3 MB/s eta 0:00:01\r\u001b[K     |███████████████████████▋        | 1.2 MB 4.3 MB/s eta 0:00:01\r\u001b[K     |███████████████████████▉        | 1.2 MB 4.3 MB/s eta 0:00:01\r\u001b[K     |████████████████████████        | 1.2 MB 4.3 MB/s eta 0:00:01\r\u001b[K     |████████████████████████▎       | 1.2 MB 4.3 MB/s eta 0:00:01\r\u001b[K     |████████████████████████▌       | 1.2 MB 4.3 MB/s eta 0:00:01\r\u001b[K     |████████████████████████▊       | 1.2 MB 4.3 MB/s eta 0:00:01\r\u001b[K     |████████████████████████▉       | 1.2 MB 4.3 MB/s eta 0:00:01\r\u001b[K     |█████████████████████████       | 1.2 MB 4.3 MB/s eta 0:00:01\r\u001b[K     |█████████████████████████▎      | 1.2 MB 4.3 MB/s eta 0:00:01\r\u001b[K     |█████████████████████████▌      | 1.2 MB 4.3 MB/s eta 0:00:01\r\u001b[K     |█████████████████████████▊      | 1.3 MB 4.3 MB/s eta 0:00:01\r\u001b[K     |██████████████████████████      | 1.3 MB 4.3 MB/s eta 0:00:01\r\u001b[K     |██████████████████████████▏     | 1.3 MB 4.3 MB/s eta 0:00:01\r\u001b[K     |██████████████████████████▍     | 1.3 MB 4.3 MB/s eta 0:00:01\r\u001b[K     |██████████████████████████▌     | 1.3 MB 4.3 MB/s eta 0:00:01\r\u001b[K     |██████████████████████████▊     | 1.3 MB 4.3 MB/s eta 0:00:01\r\u001b[K     |███████████████████████████     | 1.3 MB 4.3 MB/s eta 0:00:01\r\u001b[K     |███████████████████████████▏    | 1.3 MB 4.3 MB/s eta 0:00:01\r\u001b[K     |███████████████████████████▍    | 1.3 MB 4.3 MB/s eta 0:00:01\r\u001b[K     |███████████████████████████▋    | 1.4 MB 4.3 MB/s eta 0:00:01\r\u001b[K     |███████████████████████████▉    | 1.4 MB 4.3 MB/s eta 0:00:01\r\u001b[K     |████████████████████████████    | 1.4 MB 4.3 MB/s eta 0:00:01\r\u001b[K     |████████████████████████████▎   | 1.4 MB 4.3 MB/s eta 0:00:01\r\u001b[K     |████████████████████████████▍   | 1.4 MB 4.3 MB/s eta 0:00:01\r\u001b[K     |████████████████████████████▋   | 1.4 MB 4.3 MB/s eta 0:00:01\r\u001b[K     |████████████████████████████▉   | 1.4 MB 4.3 MB/s eta 0:00:01\r\u001b[K     |█████████████████████████████   | 1.4 MB 4.3 MB/s eta 0:00:01\r\u001b[K     |█████████████████████████████▎  | 1.4 MB 4.3 MB/s eta 0:00:01\r\u001b[K     |█████████████████████████████▌  | 1.4 MB 4.3 MB/s eta 0:00:01\r\u001b[K     |█████████████████████████████▊  | 1.5 MB 4.3 MB/s eta 0:00:01\r\u001b[K     |██████████████████████████████  | 1.5 MB 4.3 MB/s eta 0:00:01\r\u001b[K     |██████████████████████████████  | 1.5 MB 4.3 MB/s eta 0:00:01\r\u001b[K     |██████████████████████████████▎ | 1.5 MB 4.3 MB/s eta 0:00:01\r\u001b[K     |██████████████████████████████▌ | 1.5 MB 4.3 MB/s eta 0:00:01\r\u001b[K     |██████████████████████████████▊ | 1.5 MB 4.3 MB/s eta 0:00:01\r\u001b[K     |███████████████████████████████ | 1.5 MB 4.3 MB/s eta 0:00:01\r\u001b[K     |███████████████████████████████▏| 1.5 MB 4.3 MB/s eta 0:00:01\r\u001b[K     |███████████████████████████████▍| 1.5 MB 4.3 MB/s eta 0:00:01\r\u001b[K     |███████████████████████████████▋| 1.5 MB 4.3 MB/s eta 0:00:01\r\u001b[K     |███████████████████████████████▉| 1.6 MB 4.3 MB/s eta 0:00:01\r\u001b[K     |████████████████████████████████| 1.6 MB 4.3 MB/s eta 0:00:01\r\u001b[K     |████████████████████████████████| 1.6 MB 4.3 MB/s \n",
            "\u001b[?25hSetup complete. Using torch 1.12.1+cu113 CPU\n"
          ]
        }
      ]
    },
    {
      "cell_type": "code",
      "source": [
        "#follow the link below to get your download code from from Roboflow\n",
        "!pip install -q roboflow\n",
        "from roboflow import Roboflow\n",
        "rf = Roboflow(model_format=\"yolov5\", notebook=\"roboflow-yolov5\")"
      ],
      "metadata": {
        "colab": {
          "base_uri": "https://localhost:8080/"
        },
        "id": "RCl80NJfGy1q",
        "outputId": "4a6c7f38-a25e-456e-8b05-0d685f5071c4"
      },
      "execution_count": 3,
      "outputs": [
        {
          "output_type": "stream",
          "name": "stdout",
          "text": [
            "\u001b[K     |████████████████████████████████| 145 kB 4.2 MB/s \n",
            "\u001b[K     |████████████████████████████████| 178 kB 51.6 MB/s \n",
            "\u001b[K     |████████████████████████████████| 1.1 MB 55.6 MB/s \n",
            "\u001b[K     |████████████████████████████████| 67 kB 6.0 MB/s \n",
            "\u001b[K     |████████████████████████████████| 54 kB 2.4 MB/s \n",
            "\u001b[K     |████████████████████████████████| 138 kB 56.0 MB/s \n",
            "\u001b[K     |████████████████████████████████| 62 kB 1.5 MB/s \n",
            "\u001b[?25h  Building wheel for roboflow (setup.py) ... \u001b[?25l\u001b[?25hdone\n",
            "  Building wheel for wget (setup.py) ... \u001b[?25l\u001b[?25hdone\n",
            "upload and label your dataset, and get an API KEY here: https://app.roboflow.com/?model=yolov5&ref=roboflow-yolov5\n"
          ]
        }
      ]
    },
    {
      "cell_type": "code",
      "source": [
        "%cd /content/yolov5\n",
        "#after following the link above, recieve python code with these fields filled in\n",
        "from roboflow import Roboflow\n",
        "rf = Roboflow(api_key=\"IU6ExIsnXyucm2gEyBlx\")\n",
        "project = rf.workspace().project(\"final_ekdum\")\n",
        "dataset = project.version(\"3\").download(\"yolov5\")"
      ],
      "metadata": {
        "id": "5SuGigI0HNax",
        "colab": {
          "base_uri": "https://localhost:8080/"
        },
        "outputId": "52bc692d-7b83-4720-f1a9-075cf3d265f5"
      },
      "execution_count": 9,
      "outputs": [
        {
          "output_type": "stream",
          "name": "stdout",
          "text": [
            "/content/yolov5\n",
            "loading Roboflow workspace...\n",
            "loading Roboflow project...\n",
            "Downloading Dataset Version Zip in final_ekdum-3 to yolov5pytorch: 100% [56196937 / 56196937] bytes\n"
          ]
        },
        {
          "output_type": "stream",
          "name": "stderr",
          "text": [
            "Extracting Dataset Version Zip to final_ekdum-3 in yolov5pytorch:: 100%|██████████| 1363/1363 [00:01<00:00, 1242.95it/s]\n"
          ]
        }
      ]
    },
    {
      "cell_type": "code",
      "source": [
        "# this is the YAML file Roboflow wrote for us that we're loading into this notebook with our data\n",
        "%cat {dataset.location}/data.yaml"
      ],
      "metadata": {
        "colab": {
          "base_uri": "https://localhost:8080/"
        },
        "id": "Fp87B7YCr13E",
        "outputId": "4ecc604e-fd3c-4ae7-ea3b-32edaf0c8145"
      },
      "execution_count": 10,
      "outputs": [
        {
          "output_type": "stream",
          "name": "stdout",
          "text": [
            "names:\n",
            "- intermediate\n",
            "- mature\n",
            "- young\n",
            "nc: 3\n",
            "train: final_ekdum-3/train/images\n",
            "val: final_ekdum-3/valid/images\n"
          ]
        }
      ]
    },
    {
      "cell_type": "code",
      "source": [
        "# define number of classes based on YAML\n",
        "import yaml\n",
        "with open(dataset.location + \"/data.yaml\", 'r') as stream:\n",
        "    num_classes = str(yaml.safe_load(stream)['nc'])"
      ],
      "metadata": {
        "id": "FJ1EQ3c8x-c3"
      },
      "execution_count": 11,
      "outputs": []
    },
    {
      "cell_type": "code",
      "source": [
        "print(num_classes)"
      ],
      "metadata": {
        "colab": {
          "base_uri": "https://localhost:8080/"
        },
        "id": "Onz3HVHBymEf",
        "outputId": "4eb466fe-7a69-4981-cddf-294234eb1a86"
      },
      "execution_count": 12,
      "outputs": [
        {
          "output_type": "stream",
          "name": "stdout",
          "text": [
            "3\n"
          ]
        }
      ]
    },
    {
      "cell_type": "code",
      "source": [
        "#this is the model configuration we will use for our tutorial \n",
        "%cat /content/yolov5/models/yolov5s.yaml"
      ],
      "metadata": {
        "colab": {
          "base_uri": "https://localhost:8080/"
        },
        "id": "GghUOonzynzr",
        "outputId": "0bc7a24f-5bea-4864-c051-4e93467fb8d8"
      },
      "execution_count": 13,
      "outputs": [
        {
          "output_type": "stream",
          "name": "stdout",
          "text": [
            "# YOLOv5 🚀 by Ultralytics, GPL-3.0 license\n",
            "\n",
            "# Parameters\n",
            "nc: 80  # number of classes\n",
            "depth_multiple: 0.33  # model depth multiple\n",
            "width_multiple: 0.50  # layer channel multiple\n",
            "anchors:\n",
            "  - [10,13, 16,30, 33,23]  # P3/8\n",
            "  - [30,61, 62,45, 59,119]  # P4/16\n",
            "  - [116,90, 156,198, 373,326]  # P5/32\n",
            "\n",
            "# YOLOv5 v6.0 backbone\n",
            "backbone:\n",
            "  # [from, number, module, args]\n",
            "  [[-1, 1, Conv, [64, 6, 2, 2]],  # 0-P1/2\n",
            "   [-1, 1, Conv, [128, 3, 2]],  # 1-P2/4\n",
            "   [-1, 3, C3, [128]],\n",
            "   [-1, 1, Conv, [256, 3, 2]],  # 3-P3/8\n",
            "   [-1, 6, C3, [256]],\n",
            "   [-1, 1, Conv, [512, 3, 2]],  # 5-P4/16\n",
            "   [-1, 9, C3, [512]],\n",
            "   [-1, 1, Conv, [1024, 3, 2]],  # 7-P5/32\n",
            "   [-1, 3, C3, [1024]],\n",
            "   [-1, 1, SPPF, [1024, 5]],  # 9\n",
            "  ]\n",
            "\n",
            "# YOLOv5 v6.0 head\n",
            "head:\n",
            "  [[-1, 1, Conv, [512, 1, 1]],\n",
            "   [-1, 1, nn.Upsample, [None, 2, 'nearest']],\n",
            "   [[-1, 6], 1, Concat, [1]],  # cat backbone P4\n",
            "   [-1, 3, C3, [512, False]],  # 13\n",
            "\n",
            "   [-1, 1, Conv, [256, 1, 1]],\n",
            "   [-1, 1, nn.Upsample, [None, 2, 'nearest']],\n",
            "   [[-1, 4], 1, Concat, [1]],  # cat backbone P3\n",
            "   [-1, 3, C3, [256, False]],  # 17 (P3/8-small)\n",
            "\n",
            "   [-1, 1, Conv, [256, 3, 2]],\n",
            "   [[-1, 14], 1, Concat, [1]],  # cat head P4\n",
            "   [-1, 3, C3, [512, False]],  # 20 (P4/16-medium)\n",
            "\n",
            "   [-1, 1, Conv, [512, 3, 2]],\n",
            "   [[-1, 10], 1, Concat, [1]],  # cat head P5\n",
            "   [-1, 3, C3, [1024, False]],  # 23 (P5/32-large)\n",
            "\n",
            "   [[17, 20, 23], 1, Detect, [nc, anchors]],  # Detect(P3, P4, P5)\n",
            "  ]\n"
          ]
        }
      ]
    },
    {
      "cell_type": "code",
      "source": [
        "#customize iPython writefile so we can write variables\n",
        "from IPython.core.magic import register_line_cell_magic\n",
        "\n",
        "@register_line_cell_magic\n",
        "def writetemplate(line, cell):\n",
        "    with open(line, 'w') as f:\n",
        "        f.write(cell.format(**globals()))"
      ],
      "metadata": {
        "id": "XsaS3CpXy5Ql"
      },
      "execution_count": 14,
      "outputs": []
    },
    {
      "cell_type": "code",
      "source": [
        "%%writetemplate /content/yolov5/models/custom_yolov5s.yaml\n",
        "\n",
        "# parameters\n",
        "nc: {num_classes}  # number of classes\n",
        "depth_multiple: 0.33  # model depth multiple\n",
        "width_multiple: 0.50  # layer channel multiple\n",
        "\n",
        "# anchors\n",
        "anchors:\n",
        "  - [10,13, 16,30, 33,23]  # P3/8\n",
        "  - [30,61, 62,45, 59,119]  # P4/16\n",
        "  - [116,90, 156,198, 373,326]  # P5/32\n",
        "\n",
        "# YOLOv5 backbone\n",
        "backbone:\n",
        "  # [from, number, module, args]\n",
        "  [[-1, 1, Focus, [64, 3]],  # 0-P1/2\n",
        "   [-1, 1, Conv, [128, 3, 2]],  # 1-P2/4\n",
        "   [-1, 3, BottleneckCSP, [128]],\n",
        "   [-1, 1, Conv, [256, 3, 2]],  # 3-P3/8\n",
        "   [-1, 9, BottleneckCSP, [256]],\n",
        "   [-1, 1, Conv, [512, 3, 2]],  # 5-P4/16\n",
        "   [-1, 9, BottleneckCSP, [512]],\n",
        "   [-1, 1, Conv, [1024, 3, 2]],  # 7-P5/32\n",
        "   [-1, 1, SPP, [1024, [5, 9, 13]]],\n",
        "   [-1, 3, BottleneckCSP, [1024, False]],  # 9\n",
        "  ]\n",
        "\n",
        "# YOLOv5 head\n",
        "head:\n",
        "  [[-1, 1, Conv, [512, 1, 1]],\n",
        "   [-1, 1, nn.Upsample, [None, 2, 'nearest']],\n",
        "   [[-1, 6], 1, Concat, [1]],  # cat backbone P4\n",
        "   [-1, 3, BottleneckCSP, [512, False]],  # 13\n",
        "\n",
        "   [-1, 1, Conv, [256, 1, 1]],\n",
        "   [-1, 1, nn.Upsample, [None, 2, 'nearest']],\n",
        "   [[-1, 4], 1, Concat, [1]],  # cat backbone P3\n",
        "   [-1, 3, BottleneckCSP, [256, False]],  # 17 (P3/8-small)\n",
        "\n",
        "   [-1, 1, Conv, [256, 3, 2]],\n",
        "   [[-1, 14], 1, Concat, [1]],  # cat head P4\n",
        "   [-1, 3, BottleneckCSP, [512, False]],  # 20 (P4/16-medium)\n",
        "\n",
        "   [-1, 1, Conv, [512, 3, 2]],\n",
        "   [[-1, 10], 1, Concat, [1]],  # cat head P5\n",
        "   [-1, 3, BottleneckCSP, [1024, False]],  # 23 (P5/32-large)\n",
        "\n",
        "   [[17, 20, 23], 1, Detect, [nc, anchors]],  # Detect(P3, P4, P5)\n",
        "  ]"
      ],
      "metadata": {
        "id": "1JxFVdtty80F"
      },
      "execution_count": 15,
      "outputs": []
    },
    {
      "cell_type": "code",
      "source": [
        "# train yolov5s on custom data for 100 epochs\n",
        "# time its performance\n",
        "%%time\n",
        "%cd /content/yolov5/\n",
        "!python train.py --img 416 --batch 16 --epochs 100 --data {dataset.location}/data.yaml --cfg ./models/custom_yolov5s.yaml --weights '' --name yolov5s_results  --cache"
      ],
      "metadata": {
        "colab": {
          "base_uri": "https://localhost:8080/"
        },
        "id": "YOJqoDy6y_zo",
        "outputId": "c9a3e573-094c-40dc-caef-cabfb4971b7d"
      },
      "execution_count": null,
      "outputs": [
        {
          "output_type": "stream",
          "name": "stdout",
          "text": [
            "/content/yolov5\n",
            "\u001b[34m\u001b[1mtrain: \u001b[0mweights=, cfg=./models/custom_yolov5s.yaml, data=/content/yolov5/final_ekdum-3/data.yaml, hyp=data/hyps/hyp.scratch-low.yaml, epochs=100, batch_size=16, imgsz=416, rect=False, resume=False, nosave=False, noval=False, noautoanchor=False, noplots=False, evolve=None, bucket=, cache=ram, image_weights=False, device=, multi_scale=False, single_cls=False, optimizer=SGD, sync_bn=False, workers=8, project=runs/train, name=yolov5s_results, exist_ok=False, quad=False, cos_lr=False, label_smoothing=0.0, patience=100, freeze=[0], save_period=-1, seed=0, local_rank=-1, entity=None, upload_dataset=False, bbox_interval=-1, artifact_alias=latest\n",
            "\u001b[34m\u001b[1mgithub: \u001b[0m⚠️ YOLOv5 is out of date by 184 commits. Use `git pull` or `git clone https://github.com/ultralytics/yolov5` to update.\n",
            "YOLOv5 🚀 v6.1-306-gfbe67e4 Python-3.7.13 torch-1.12.1+cu113 CPU\n",
            "\n",
            "\u001b[34m\u001b[1mhyperparameters: \u001b[0mlr0=0.01, lrf=0.01, momentum=0.937, weight_decay=0.0005, warmup_epochs=3.0, warmup_momentum=0.8, warmup_bias_lr=0.1, box=0.05, cls=0.5, cls_pw=1.0, obj=1.0, obj_pw=1.0, iou_t=0.2, anchor_t=4.0, fl_gamma=0.0, hsv_h=0.015, hsv_s=0.7, hsv_v=0.4, degrees=0.0, translate=0.1, scale=0.5, shear=0.0, perspective=0.0, flipud=0.0, fliplr=0.5, mosaic=1.0, mixup=0.0, copy_paste=0.0\n",
            "\u001b[34m\u001b[1mWeights & Biases: \u001b[0mrun 'pip install wandb' to automatically track and visualize YOLOv5 🚀 runs (RECOMMENDED)\n",
            "\u001b[34m\u001b[1mTensorBoard: \u001b[0mStart with 'tensorboard --logdir runs/train', view at http://localhost:6006/\n",
            "Downloading https://ultralytics.com/assets/Arial.ttf to /root/.config/Ultralytics/Arial.ttf...\n",
            "100% 755k/755k [00:00<00:00, 14.2MB/s]\n",
            "\n",
            "                 from  n    params  module                                  arguments                     \n",
            "  0                -1  1      3520  models.common.Focus                     [3, 32, 3]                    \n",
            "  1                -1  1     18560  models.common.Conv                      [32, 64, 3, 2]                \n",
            "  2                -1  1     19904  models.common.BottleneckCSP             [64, 64, 1]                   \n",
            "  3                -1  1     73984  models.common.Conv                      [64, 128, 3, 2]               \n",
            "  4                -1  3    161152  models.common.BottleneckCSP             [128, 128, 3]                 \n",
            "  5                -1  1    295424  models.common.Conv                      [128, 256, 3, 2]              \n",
            "  6                -1  3    641792  models.common.BottleneckCSP             [256, 256, 3]                 \n",
            "  7                -1  1   1180672  models.common.Conv                      [256, 512, 3, 2]              \n",
            "  8                -1  1    656896  models.common.SPP                       [512, 512, [5, 9, 13]]        \n",
            "  9                -1  1   1248768  models.common.BottleneckCSP             [512, 512, 1, False]          \n",
            " 10                -1  1    131584  models.common.Conv                      [512, 256, 1, 1]              \n",
            " 11                -1  1         0  torch.nn.modules.upsampling.Upsample    [None, 2, 'nearest']          \n",
            " 12           [-1, 6]  1         0  models.common.Concat                    [1]                           \n",
            " 13                -1  1    378624  models.common.BottleneckCSP             [512, 256, 1, False]          \n",
            " 14                -1  1     33024  models.common.Conv                      [256, 128, 1, 1]              \n",
            " 15                -1  1         0  torch.nn.modules.upsampling.Upsample    [None, 2, 'nearest']          \n",
            " 16           [-1, 4]  1         0  models.common.Concat                    [1]                           \n",
            " 17                -1  1     95104  models.common.BottleneckCSP             [256, 128, 1, False]          \n",
            " 18                -1  1    147712  models.common.Conv                      [128, 128, 3, 2]              \n",
            " 19          [-1, 14]  1         0  models.common.Concat                    [1]                           \n",
            " 20                -1  1    313088  models.common.BottleneckCSP             [256, 256, 1, False]          \n",
            " 21                -1  1    590336  models.common.Conv                      [256, 256, 3, 2]              \n",
            " 22          [-1, 10]  1         0  models.common.Concat                    [1]                           \n",
            " 23                -1  1   1248768  models.common.BottleneckCSP             [512, 512, 1, False]          \n",
            " 24      [17, 20, 23]  1     21576  models.yolo.Detect                      [3, [[10, 13, 16, 30, 33, 23], [30, 61, 62, 45, 59, 119], [116, 90, 156, 198, 373, 326]], [128, 256, 512]]\n",
            "custom_YOLOv5s summary: 283 layers, 7260488 parameters, 7260488 gradients, 16.9 GFLOPs\n",
            "\n",
            "Scaled weight_decay = 0.0005\n",
            "\u001b[34m\u001b[1moptimizer:\u001b[0m SGD with parameter groups 59 weight (no decay), 70 weight, 62 bias\n",
            "\u001b[34m\u001b[1malbumentations: \u001b[0mBlur(always_apply=False, p=0.01, blur_limit=(3, 7)), MedianBlur(always_apply=False, p=0.01, blur_limit=(3, 7)), ToGray(always_apply=False, p=0.01), CLAHE(always_apply=False, p=0.01, clip_limit=(1, 4.0), tile_grid_size=(8, 8))\n",
            "\u001b[34m\u001b[1mtrain: \u001b[0mScanning '/content/yolov5/final_ekdum-3/train/labels' images and labels...630 found, 0 missing, 0 empty, 0 corrupt: 100% 630/630 [00:00<00:00, 1478.74it/s]\n",
            "\u001b[34m\u001b[1mtrain: \u001b[0mNew cache created: /content/yolov5/final_ekdum-3/train/labels.cache\n",
            "\u001b[34m\u001b[1mtrain: \u001b[0mCaching images (0.3GB ram): 100% 630/630 [00:02<00:00, 249.50it/s]\n",
            "\u001b[34m\u001b[1mval: \u001b[0mScanning '/content/yolov5/final_ekdum-3/valid/labels' images and labels...33 found, 0 missing, 0 empty, 0 corrupt: 100% 33/33 [00:00<00:00, 588.94it/s]\n",
            "\u001b[34m\u001b[1mval: \u001b[0mNew cache created: /content/yolov5/final_ekdum-3/valid/labels.cache\n",
            "\u001b[34m\u001b[1mval: \u001b[0mCaching images (0.0GB ram): 100% 33/33 [00:00<00:00, 162.16it/s]\n",
            "Plotting labels to runs/train/yolov5s_results/labels.jpg... \n",
            "\n",
            "\u001b[34m\u001b[1mAutoAnchor: \u001b[0m4.08 anchors/target, 0.999 Best Possible Recall (BPR). Current anchors are a good fit to dataset ✅\n",
            "Image sizes 416 train, 416 val\n",
            "Using 2 dataloader workers\n",
            "Logging results to \u001b[1mruns/train/yolov5s_results\u001b[0m\n",
            "Starting training for 100 epochs...\n",
            "\n",
            "     Epoch   gpu_mem       box       obj       cls    labels  img_size\n",
            "      0/99        0G    0.1163   0.07763   0.03753       146       416: 100% 40/40 [07:13<00:00, 10.85s/it]\n",
            "               Class     Images     Labels          P          R     mAP@.5 mAP@.5:.95:   0% 0/2 [00:00<?, ?it/s]WARNING: NMS time limit 1.260s exceeded\n",
            "               Class     Images     Labels          P          R     mAP@.5 mAP@.5:.95: 100% 2/2 [00:09<00:00,  4.69s/it]\n",
            "                 all         33          0          0          0          0          0\n",
            "\n",
            "     Epoch   gpu_mem       box       obj       cls    labels  img_size\n",
            "      1/99        0G    0.1106    0.0834   0.03639       489       416:  72% 29/40 [05:15<01:58, 10.78s/it]"
          ]
        }
      ]
    },
    {
      "cell_type": "code",
      "source": [],
      "metadata": {
        "id": "CcZD2c-9zGgJ"
      },
      "execution_count": null,
      "outputs": []
    }
  ]
}